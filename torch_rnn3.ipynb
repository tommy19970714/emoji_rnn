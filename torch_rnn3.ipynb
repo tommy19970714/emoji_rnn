{
 "cells": [
  {
   "cell_type": "code",
   "execution_count": 72,
   "metadata": {},
   "outputs": [],
   "source": [
    "from __future__ import unicode_literals, print_function, division\n",
    "from io import open\n",
    "import unicodedata\n",
    "import string\n",
    "import re\n",
    "import random\n",
    "import time\n",
    "import math\n",
    "\n",
    "import torch\n",
    "import torch.nn as nn\n",
    "from torch import optim\n",
    "import torch.nn.functional as F\n",
    "import torch.utils.data\n",
    "from torch.autograd import Variable #自動微分用\n",
    "import numpy as np\n",
    "\n",
    "import matplotlib\n",
    "#matplotlib.use(\"Agg\")\n",
    "import matplotlib.pyplot as plt"
   ]
  },
  {
   "cell_type": "code",
   "execution_count": 73,
   "metadata": {},
   "outputs": [],
   "source": [
    "device = torch.device(\"cuda\" if torch.cuda.is_available() else \"cpu\")"
   ]
  },
  {
   "cell_type": "code",
   "execution_count": 74,
   "metadata": {},
   "outputs": [
    {
     "data": {
      "text/plain": [
       "['💦']"
      ]
     },
     "execution_count": 74,
     "metadata": {},
     "output_type": "execute_result"
    }
   ],
   "source": [
    "import pickle\n",
    "emoji_index = pickle.loads(open('./emoji_index.pkl', 'rb').read())\n",
    "def emojiFromIndex(num):\n",
    "    return [k for k, v in emoji_index.items() if v == num]\n",
    "\n",
    "emojiFromIndex(10)"
   ]
  },
  {
   "cell_type": "code",
   "execution_count": 75,
   "metadata": {},
   "outputs": [],
   "source": [
    "from sklearn.model_selection import train_test_split\n",
    "import collections\n",
    "\n",
    "class pytorchloader:\n",
    "    def __init__(self, dataPath='./text_label_split.tsv'):\n",
    "        # ベクトルの読み込み\n",
    "        self.lines = open(dataPath, encoding='utf-8').read().strip().split('\\n')\n",
    "        self.pairs = [[s for s in l.split('\\t')] for l in self.lines]\n",
    "        self.labels = [p[1] for p in self.pairs]\n",
    "        # データ作成\n",
    "        self.out_pairs = []\n",
    "        self.out_labels = []\n",
    "\n",
    "    def normalize(self):\n",
    "        # データ数を合わせる\n",
    "        c = collections.Counter(self.labels)\n",
    "        sample_nums = c.most_common()\n",
    "        print(\"sample_nums:\", sample_nums)\n",
    "\n",
    "        min_num = np.min([s[1] for s in sample_nums])\n",
    "        print(\"min_num:\", min_num)\n",
    "\n",
    "        for sample in sample_nums:\n",
    "            diff_num = int(sample[1] - min_num)\n",
    "            print(\"クラス%s 削除サンプル数: %d (%0.2f％)\" % (sample[0], diff_num, (diff_num/sample[1])*100))\n",
    "            indexes = [i for i, l in enumerate(self.labels) if l == sample[0]]\n",
    "            del_indexes = random.sample(indexes, min_num)\n",
    "            self.out_pairs.extend([self.pairs[i] for i in indexes])\n",
    "            self.out_labels.extend([self.labels[i] for i in indexes])\n",
    "\n",
    "    def label_count(self):\n",
    "        return len(collections.Counter([str(v) for v in self.labels]))\n",
    "    \n",
    "    def rawdata(self):\n",
    "        return self.pairs\n",
    "    \n",
    "    def split(self):\n",
    "        X_train, X_test, y_train, y_test = train_test_split(self.out_pairs, self.labels, test_size=0.20, random_state=random.randint(0, 100))\n",
    "        return X_train, X_test"
   ]
  },
  {
   "cell_type": "code",
   "execution_count": 76,
   "metadata": {},
   "outputs": [],
   "source": [
    "SOS_token = 0\n",
    "EOS_token = 1\n",
    "\n",
    "class Lang:\n",
    "    def __init__(self, name):\n",
    "        self.name = name\n",
    "        self.word2index = {}\n",
    "        self.word2count = {}\n",
    "        self.index2word = {0: \"SOS\", 1: \"EOS\"}\n",
    "        self.n_words = 2  # Count SOS and EOS\n",
    "\n",
    "    def addSentence(self, sentence):\n",
    "        for word in sentence.split(' '):\n",
    "            self.addWord(word)\n",
    "\n",
    "    def addWord(self, word):\n",
    "        if word not in self.word2index:\n",
    "            self.word2index[word] = self.n_words\n",
    "            self.word2count[word] = 1\n",
    "            self.index2word[self.n_words] = word\n",
    "            self.n_words += 1\n",
    "        else:\n",
    "            self.word2count[word] += 1"
   ]
  },
  {
   "cell_type": "code",
   "execution_count": 77,
   "metadata": {},
   "outputs": [],
   "source": [
    "import csv\n",
    "def readLangs(lang1, lang2, fn, reverse=False):\n",
    "    print(\"Reading lines...\")\n",
    "\n",
    "    # Read the file and split into lines\n",
    "    lines = open(fn, encoding='utf-8').read().strip().split('\\n')\n",
    "\n",
    "    # Split every line into pairs and normalize\n",
    "    pairs = [[s for s in l.split('\\t')] for l in lines]\n",
    "\n",
    "    # Reverse pairs, make Lang instances\n",
    "    if reverse:\n",
    "        pairs = [list(reversed(p)) for p in pairs]\n",
    "        input_lang = Lang(lang2)\n",
    "        output_lang = Lang(lang1)\n",
    "    else:\n",
    "        input_lang = Lang(lang1)\n",
    "        output_lang = Lang(lang2)\n",
    "\n",
    "    return input_lang, output_lang, pairs"
   ]
  },
  {
   "cell_type": "code",
   "execution_count": 78,
   "metadata": {},
   "outputs": [],
   "source": [
    "MAX_LENGTH = 31"
   ]
  },
  {
   "cell_type": "code",
   "execution_count": 79,
   "metadata": {},
   "outputs": [],
   "source": [
    "def prepareData(lang1, lang2, fn, reverse=False):\n",
    "    input_lang, output_lang, pairs = readLangs(lang1, lang2, fn, reverse)\n",
    "    print(\"Read %s sentence pairs\" % len(pairs))\n",
    "    print(\"Trimmed to %s sentence pairs\" % len(pairs))\n",
    "    print(\"Counting words...\")\n",
    "    for pair in pairs:\n",
    "        input_lang.addSentence(pair[0])\n",
    "        output_lang.addSentence(pair[1])\n",
    "    print(\"Counted words:\")\n",
    "    print(input_lang.name, input_lang.n_words)\n",
    "    print(output_lang.name, output_lang.n_words)\n",
    "    return input_lang, output_lang, pairs"
   ]
  },
  {
   "cell_type": "code",
   "execution_count": 80,
   "metadata": {},
   "outputs": [],
   "source": [
    "def prepareData2(lang1, lang2, fn):\n",
    "    loader = pytorchloader(fn)\n",
    "    loader.normalize()\n",
    "    pairs, pairs_test = loader.split()\n",
    "    input_lang, output_lang = Lang(lang1), Lang(lang2)\n",
    "    print(\"Read %s sentence pairs\" % len(pairs))\n",
    "    print(\"Trimmed to %s sentence pairs\" % len(pairs))\n",
    "    print(\"Counting words...\")\n",
    "    for pair in pairs:\n",
    "        input_lang.addSentence(pair[0])\n",
    "        output_lang.addSentence(pair[1])\n",
    "    print(\"Counted words:\")\n",
    "    print(input_lang.name, input_lang.n_words)\n",
    "    print(output_lang.name, output_lang.n_words)\n",
    "    return input_lang, output_lang, pairs, pairs_test"
   ]
  },
  {
   "cell_type": "code",
   "execution_count": 81,
   "metadata": {},
   "outputs": [
    {
     "name": "stdout",
     "output_type": "stream",
     "text": [
      "sample_nums: [('2', 53592), ('10', 38038), ('9', 26034), ('1', 22109), ('4', 17432), ('5', 16174), ('7', 13489), ('3', 10927), ('6', 10851), ('8', 9534)]\n",
      "min_num: 9534\n",
      "クラス2 削除サンプル数: 44058 (82.21％)\n",
      "クラス10 削除サンプル数: 28504 (74.94％)\n",
      "クラス9 削除サンプル数: 16500 (63.38％)\n",
      "クラス1 削除サンプル数: 12575 (56.88％)\n",
      "クラス4 削除サンプル数: 7898 (45.31％)\n",
      "クラス5 削除サンプル数: 6640 (41.05％)\n",
      "クラス7 削除サンプル数: 3955 (29.32％)\n",
      "クラス3 削除サンプル数: 1393 (12.75％)\n",
      "クラス6 削除サンプル数: 1317 (12.14％)\n",
      "クラス8 削除サンプル数: 0 (0.00％)\n",
      "Read 174544 sentence pairs\n",
      "Trimmed to 174544 sentence pairs\n",
      "Counting words...\n",
      "Counted words:\n",
      "in 57185\n",
      "out 12\n",
      "['高価 な 誕 プレﾟ Д ﾟｽｹﾞｪ ', '9']\n"
     ]
    }
   ],
   "source": [
    "input_lang, output_lang, pairs, pairs_test = prepareData2('in', 'out', 'text_label_split_10class.tsv')\n",
    "print(random.choice(pairs))\n",
    "\n",
    "#input_lang, output_lang, pairs = prepareData('in', 'out', 'text_label_split.tsv', False)\n",
    "#print(random.choice(pairs_test))"
   ]
  },
  {
   "cell_type": "code",
   "execution_count": 82,
   "metadata": {},
   "outputs": [],
   "source": [
    "class EncoderRNN(nn.Module):\n",
    "    def __init__(self, input_size, hidden_size):\n",
    "        super(EncoderRNN, self).__init__()\n",
    "        self.hidden_size = hidden_size\n",
    "\n",
    "        self.embedding = nn.Embedding(input_size, hidden_size)\n",
    "        self.gru = nn.GRU(hidden_size, hidden_size)\n",
    "\n",
    "    def forward(self, input, hidden):\n",
    "        embedded = self.embedding(input).view(1, 1, -1)\n",
    "        output = embedded\n",
    "        output, hidden = self.gru(output, hidden)\n",
    "        return output, hidden\n",
    "\n",
    "    def initHidden(self):\n",
    "        return torch.zeros(1, 1, self.hidden_size, device=device)"
   ]
  },
  {
   "cell_type": "code",
   "execution_count": 83,
   "metadata": {},
   "outputs": [],
   "source": [
    "class DecoderRNN(nn.Module):\n",
    "    def __init__(self, hidden_size, output_size):\n",
    "        super(DecoderRNN, self).__init__()\n",
    "        self.hidden_size = hidden_size\n",
    "\n",
    "        self.embedding = nn.Embedding(output_size, hidden_size)\n",
    "        self.gru = nn.GRU(hidden_size, hidden_size)\n",
    "        self.out = nn.Linear(hidden_size, output_size)\n",
    "        self.softmax = nn.LogSoftmax(dim=1)\n",
    "\n",
    "    def forward(self, input, hidden):\n",
    "        output = self.embedding(input).view(1, 1, -1)\n",
    "        output = F.relu(output)\n",
    "        output, hidden = self.gru(output, hidden)\n",
    "        output = self.softmax(self.out(output[0]))\n",
    "        return output, hiddenｋ\n",
    "\n",
    "    def initHidden(self):\n",
    "        return torch.zeros(1, 1, self.hidden_size, device=device)"
   ]
  },
  {
   "cell_type": "code",
   "execution_count": 84,
   "metadata": {},
   "outputs": [],
   "source": [
    "class AttnDecoderRNN(nn.Module):\n",
    "    def __init__(self, hidden_size, output_size, dropout_p=0.1, max_length=MAX_LENGTH):\n",
    "        super(AttnDecoderRNN, self).__init__()\n",
    "        self.hidden_size = hidden_size\n",
    "        self.output_size = output_size\n",
    "        self.dropout_p = dropout_p\n",
    "        self.max_length = max_length\n",
    "\n",
    "        self.embedding = nn.Embedding(self.output_size, self.hidden_size)\n",
    "        self.attn = nn.Linear(self.hidden_size * 2, self.max_length)\n",
    "        self.attn_combine = nn.Linear(self.hidden_size * 2, self.hidden_size)\n",
    "        self.dropout = nn.Dropout(self.dropout_p)\n",
    "        self.gru = nn.GRU(self.hidden_size, self.hidden_size)\n",
    "        self.out = nn.Linear(self.hidden_size, self.output_size)\n",
    "\n",
    "    def forward(self, input, hidden, encoder_outputs):\n",
    "        embedded = self.embedding(input).view(1, 1, -1)\n",
    "        embedded = self.dropout(embedded)\n",
    "\n",
    "        attn_weights = F.softmax(\n",
    "            self.attn(torch.cat((embedded[0], hidden[0]), 1)), dim=1)\n",
    "        attn_applied = torch.bmm(attn_weights.unsqueeze(0), encoder_outputs.unsqueeze(0))\n",
    "\n",
    "        output = torch.cat((embedded[0], attn_applied[0]), 1)\n",
    "        output = self.attn_combine(output).unsqueeze(0)\n",
    "\n",
    "        output = F.relu(output)\n",
    "        output, hidden = self.gru(output, hidden)\n",
    "\n",
    "        output = F.log_softmax(self.out(output[0]), dim=1)\n",
    "        return output, hidden, attn_weights\n",
    "\n",
    "    def initHidden(self):\n",
    "        return torch.zeros(1, 1, self.hidden_size, device=device)"
   ]
  },
  {
   "cell_type": "code",
   "execution_count": 85,
   "metadata": {},
   "outputs": [],
   "source": [
    "def indexesFromSentence(lang, sentence):\n",
    "    return [lang.word2index[word] for word in sentence.split(' ') if word in lang.word2index]\n",
    "\n",
    "\n",
    "def tensorFromSentence(lang, sentence):\n",
    "    indexes = indexesFromSentence(lang, sentence)\n",
    "    indexes.append(EOS_token)\n",
    "    return torch.tensor(indexes, dtype=torch.long, device=device).view(-1, 1)\n",
    "\n",
    "\n",
    "def tensorsFromPair(pair):\n",
    "    input_tensor = tensorFromSentence(input_lang, pair[0])\n",
    "    target_tensor = tensorFromSentence(output_lang, pair[1])\n",
    "    return (input_tensor, target_tensor)"
   ]
  },
  {
   "cell_type": "code",
   "execution_count": 86,
   "metadata": {},
   "outputs": [],
   "source": [
    "teacher_forcing_ratio = 0.5"
   ]
  },
  {
   "cell_type": "code",
   "execution_count": 87,
   "metadata": {},
   "outputs": [],
   "source": [
    "def train(input_tensor, target_tensor, encoder, decoder, encoder_optimizer, decoder_optimizer, criterion, max_length=MAX_LENGTH):\n",
    "    encoder_hidden = encoder.initHidden()\n",
    "\n",
    "    encoder_optimizer.zero_grad()\n",
    "    decoder_optimizer.zero_grad()\n",
    "\n",
    "    input_length = input_tensor.size(0)\n",
    "    target_length = target_tensor.size(0)\n",
    "\n",
    "    encoder_outputs = torch.zeros(max_length, encoder.hidden_size, device=device)\n",
    "\n",
    "    loss = 0\n",
    "    for ei in range(input_length):\n",
    "        encoder_output, encoder_hidden = encoder(input_tensor[ei], encoder_hidden)\n",
    "        encoder_outputs[ei] = encoder_output[0, 0]\n",
    "\n",
    "    decoder_input = torch.tensor([[SOS_token]], device=device)\n",
    "\n",
    "    decoder_hidden = encoder_hidden\n",
    "\n",
    "    use_teacher_forcing = True if random.random() < teacher_forcing_ratio else False\n",
    "\n",
    "    if use_teacher_forcing:\n",
    "        # Teacher forcing: Feed the target as the next input\n",
    "        for di in range(target_length):\n",
    "            decoder_output, decoder_hidden, decoder_attention = decoder(\n",
    "                decoder_input, decoder_hidden, encoder_outputs)\n",
    "            loss += criterion(decoder_output, target_tensor[di])\n",
    "            decoder_input = target_tensor[di]  # Teacher forcing\n",
    "\n",
    "    else:\n",
    "        # Without teacher forcing: use its own predictions as the next input\n",
    "        for di in range(target_length):\n",
    "            decoder_output, decoder_hidden, decoder_attention = decoder(\n",
    "                decoder_input, decoder_hidden, encoder_outputs)\n",
    "            topv, topi = decoder_output.topk(1)\n",
    "            decoder_input = topi.squeeze().detach()  # detach from history as input\n",
    "\n",
    "            loss += criterion(decoder_output, target_tensor[di])\n",
    "            if decoder_input.item() == EOS_token:\n",
    "                break\n",
    "\n",
    "    loss.backward()\n",
    "\n",
    "    encoder_optimizer.step()\n",
    "    decoder_optimizer.step()\n",
    "\n",
    "    return loss.item() / target_length"
   ]
  },
  {
   "cell_type": "code",
   "execution_count": 88,
   "metadata": {},
   "outputs": [],
   "source": [
    "import time\n",
    "import math\n",
    "\n",
    "\n",
    "def asMinutes(s):\n",
    "    m = math.floor(s / 60)\n",
    "    s -= m * 60\n",
    "    return '%dm %ds' % (m, s)\n",
    "\n",
    "\n",
    "def timeSince(since, percent):\n",
    "    now = time.time()\n",
    "    s = now - since\n",
    "    es = s / (percent)\n",
    "    rs = es - s\n",
    "    return '%s (- %s)' % (asMinutes(s), asMinutes(rs))"
   ]
  },
  {
   "cell_type": "code",
   "execution_count": 89,
   "metadata": {},
   "outputs": [],
   "source": [
    "def trainIters(encoder, decoder, n_iters, print_every=1000, plot_every=100, learning_rate=0.01):\n",
    "    start = time.time()\n",
    "    plot_losses = []\n",
    "    print_loss_total = 0  # Reset every print_every\n",
    "    plot_loss_total = 0  # Reset every plot_every\n",
    "\n",
    "    encoder_optimizer = optim.SGD(encoder.parameters(), lr=learning_rate)\n",
    "    decoder_optimizer = optim.SGD(decoder.parameters(), lr=learning_rate)\n",
    "    training_pairs = [tensorsFromPair(random.choice(pairs))\n",
    "                      for i in range(n_iters)]\n",
    "    criterion = nn.NLLLoss()\n",
    "\n",
    "    for iter in range(1, n_iters + 1):\n",
    "        training_pair = training_pairs[iter - 1]\n",
    "        input_tensor = training_pair[0]\n",
    "        target_tensor = training_pair[1]\n",
    "\n",
    "        loss = train(input_tensor, target_tensor, encoder, decoder, encoder_optimizer, decoder_optimizer, criterion)\n",
    "        print_loss_total += loss\n",
    "        plot_loss_total += loss\n",
    "\n",
    "        if iter % print_every == 0:\n",
    "            print_loss_avg = print_loss_total / print_every\n",
    "            print_loss_total = 0\n",
    "            print('%s (%d %d%%) %.4f' % (timeSince(start, iter / n_iters),\n",
    "                                         iter, iter / n_iters * 100, print_loss_avg))\n",
    "\n",
    "        if iter % plot_every == 0:\n",
    "            plot_loss_avg = plot_loss_total / plot_every\n",
    "            plot_losses.append(plot_loss_avg)\n",
    "            plot_loss_total = 0\n",
    "\n",
    "    showPlot(plot_losses, \"losses.png\")"
   ]
  },
  {
   "cell_type": "code",
   "execution_count": 90,
   "metadata": {},
   "outputs": [],
   "source": [
    "import matplotlib.pyplot as plt\n",
    "#plt.switch_backend('agg')\n",
    "import matplotlib.ticker as ticker\n",
    "import numpy as np\n",
    "\n",
    "\n",
    "def showPlot(points, filename):\n",
    "    plt.figure()\n",
    "    fig, ax = plt.subplots()\n",
    "    # this locator puts ticks at regular intervals\n",
    "    loc = ticker.MultipleLocator(base=0.2)\n",
    "    ax.yaxis.set_major_locator(loc)\n",
    "    plt.plot(points)\n",
    "    plt.savefig(filename)\n",
    "    plt.show()\n",
    "    plt.close()"
   ]
  },
  {
   "cell_type": "code",
   "execution_count": 91,
   "metadata": {},
   "outputs": [],
   "source": [
    "import seaborn as sns\n",
    "from sklearn.metrics import confusion_matrix\n",
    "import pandas as pd\n",
    "\n",
    "def showConfusionMatrix(y_test, y_pred):\n",
    "    conf_mat = confusion_matrix(y_test, y_pred)\n",
    "    index = columns = [str(l) for l in range(len(emoji_index))]\n",
    "    df = pd.DataFrame(conf_mat, index=index, columns=columns)\n",
    "    \n",
    "    fig = plt.figure(figsize = (7,7))\n",
    "    sns.heatmap(df, annot=False, square=True, fmt='.0f', cmap=\"Blues\")\n",
    "    plt.title('20 emojis classification')\n",
    "    plt.xlabel('emojis')\n",
    "    plt.ylabel('prediction')\n",
    "    fig.savefig(\"confusion_matrix_torch3.png\")\n",
    "    plt.show()\n",
    "    plt.close()"
   ]
  },
  {
   "cell_type": "code",
   "execution_count": 92,
   "metadata": {},
   "outputs": [],
   "source": [
    "def evaluate(encoder, decoder, sentence, max_length=MAX_LENGTH):\n",
    "    with torch.no_grad():\n",
    "        input_tensor = tensorFromSentence(input_lang, sentence)\n",
    "        input_length = input_tensor.size()[0]\n",
    "        encoder_hidden = encoder.initHidden()\n",
    "\n",
    "        encoder_outputs = torch.zeros(max_length, encoder.hidden_size, device=device)\n",
    "\n",
    "        for ei in range(input_length):\n",
    "            encoder_output, encoder_hidden = encoder(input_tensor[ei],\n",
    "                                                     encoder_hidden)\n",
    "            encoder_outputs[ei] += encoder_output[0, 0]\n",
    "\n",
    "        decoder_input = torch.tensor([[SOS_token]], device=device)  # SOS\n",
    "\n",
    "        decoder_hidden = encoder_hidden\n",
    "\n",
    "        decoded_words = []\n",
    "        decoder_attentions = torch.zeros(max_length, max_length)\n",
    "\n",
    "        for di in range(max_length):\n",
    "            decoder_output, decoder_hidden, decoder_attention = decoder(\n",
    "                decoder_input, decoder_hidden, encoder_outputs)\n",
    "            decoder_attentions[di] = decoder_attention.data\n",
    "            topv, topi = decoder_output.data.topk(1)\n",
    "            if topi.item() == EOS_token:\n",
    "                decoded_words.append('<EOS>')\n",
    "                break\n",
    "            else:\n",
    "                decoded_words.append(output_lang.index2word[topi.item()])\n",
    "\n",
    "            decoder_input = topi.squeeze().detach()\n",
    "\n",
    "        return decoded_words, decoder_attentions[:di + 1]"
   ]
  },
  {
   "cell_type": "code",
   "execution_count": 93,
   "metadata": {},
   "outputs": [],
   "source": [
    "def evaluateRandomly(encoder, decoder, n=10):\n",
    "    for i in range(n):\n",
    "        pair = random.choice(pairs)\n",
    "        print('>', pair[0])\n",
    "        print('=', pair[1])\n",
    "        print('original emoji = ', emojiFromIndex(int(pair[1])))\n",
    "        output_words, attentions = evaluate(encoder, decoder, pair[0])\n",
    "        output_sentence = ' '.join(output_words)\n",
    "        print('<', output_sentence)\n",
    "        print('output emoji < ', emojiFromIndex(int(output_words[0])))\n",
    "        print('')"
   ]
  },
  {
   "cell_type": "code",
   "execution_count": 94,
   "metadata": {},
   "outputs": [],
   "source": [
    "from sklearn.metrics import accuracy_score\n",
    "from sklearn.metrics import classification_report\n",
    "from sklearn.metrics import precision_score\n",
    "\n",
    "def evaluateTestdata(encoder, decoder):\n",
    "    y_test, y_pred = [], []\n",
    "    for pair in pairs_test:\n",
    "        y_test.append(int(pair[1]))\n",
    "        output_words, attentions = evaluate(encoder, decoder, pair[0])\n",
    "        y_pred.append(int(output_words[0]))\n",
    "    print(\"precision\", precision_score(y_test, y_pred, average=None))\n",
    "    print(\"report\", classification_report(y_test, y_pred))\n",
    "    print(\"accuracy score\", accuracy_score(y_test, y_pred))\n",
    "    showConfusionMatrix(y_test, y_pred)\n",
    "    "
   ]
  },
  {
   "cell_type": "code",
   "execution_count": 95,
   "metadata": {},
   "outputs": [],
   "source": [
    "hidden_size = 256\n",
    "encoder1 = EncoderRNN(input_lang.n_words, hidden_size).to(device)"
   ]
  },
  {
   "cell_type": "code",
   "execution_count": 96,
   "metadata": {},
   "outputs": [],
   "source": [
    "attn_decoder1 = AttnDecoderRNN(hidden_size, output_lang.n_words, dropout_p=0.1).to(device)"
   ]
  },
  {
   "cell_type": "code",
   "execution_count": 97,
   "metadata": {},
   "outputs": [
    {
     "name": "stdout",
     "output_type": "stream",
     "text": [
      "1m 11s (- 16m 39s) (5000 6%) 1.0275\n",
      "2m 19s (- 15m 8s) (10000 13%) 0.8898\n",
      "3m 28s (- 13m 53s) (15000 20%) 0.8518\n",
      "4m 37s (- 12m 42s) (20000 26%) 0.8427\n",
      "5m 46s (- 11m 32s) (25000 33%) 0.8135\n",
      "6m 54s (- 10m 21s) (30000 40%) 0.8047\n",
      "8m 2s (- 9m 11s) (35000 46%) 0.7822\n",
      "9m 11s (- 8m 2s) (40000 53%) 0.7881\n",
      "10m 19s (- 6m 52s) (45000 60%) 0.7777\n",
      "11m 27s (- 5m 43s) (50000 66%) 0.7561\n",
      "12m 35s (- 4m 34s) (55000 73%) 0.7513\n",
      "13m 44s (- 3m 26s) (60000 80%) 0.7610\n",
      "14m 52s (- 2m 17s) (65000 86%) 0.7536\n",
      "16m 1s (- 1m 8s) (70000 93%) 0.7462\n",
      "17m 9s (- 0m 0s) (75000 100%) 0.7319\n"
     ]
    },
    {
     "data": {
      "text/plain": [
       "<Figure size 432x288 with 0 Axes>"
      ]
     },
     "metadata": {},
     "output_type": "display_data"
    },
    {
     "data": {
      "image/png": "[encoded data removed]",
      "text/plain": [
       "<Figure size 432x288 with 1 Axes>"
      ]
     },
     "metadata": {},
     "output_type": "display_data"
    }
   ],
   "source": [
    "trainIters(encoder1, attn_decoder1, 75000, print_every=5000)"
   ]
  },
  {
   "cell_type": "code",
   "execution_count": 98,
   "metadata": {},
   "outputs": [
    {
     "name": "stdout",
     "output_type": "stream",
     "text": [
      "> 『 아야어여오요우유으이 』 🇰🇷 ジェイ ケル 🇳🇿  さん の に 参加 しよう ラッシェル の お兄ちゃん だ よ 〜 〜 \n",
      "= 7\n",
      "original emoji =  ['😉']\n",
      "< 2 <EOS>\n",
      "output emoji <  ['😊']\n",
      "\n",
      "> 大好き な 先生 と も 撮れ て 満足 \n",
      "= 6\n",
      "original emoji =  ['🙆']\n",
      "< 2 <EOS>\n",
      "output emoji <  ['😊']\n",
      "\n",
      "> 入り たい 方 は リプ お願い し ます \n",
      "= 4\n",
      "original emoji =  ['🙇']\n",
      "< 4 <EOS>\n",
      "output emoji <  ['🙇']\n",
      "\n",
      "> 楽しかっ た ん です けど 自己満 な ので 大変 申し訳 ござい ませ ん でし た \n",
      "= 4\n",
      "original emoji =  ['🙇']\n",
      "< 4 <EOS>\n",
      "output emoji <  ['🙇']\n",
      "\n",
      "> 今日 は 、 リラックス し て ね \n",
      "= 7\n",
      "original emoji =  ['😉']\n",
      "< 2 <EOS>\n",
      "output emoji <  ['😊']\n",
      "\n",
      "> これ は ちょっと 寄り すぎ  ️\n",
      "= 10\n",
      "original emoji =  ['💦']\n",
      "< 10 <EOS>\n",
      "output emoji <  ['💦']\n",
      "\n",
      "> でも 、 我が家 に は ミシン が ない ので 手縫い だ から 時間 かかる し 完成度 も イマイチ だ けど 、 時間 忘れ て 無心 に なれる から 楽しい \n",
      "= 2\n",
      "original emoji =  ['😊']\n",
      "< 2 <EOS>\n",
      "output emoji <  ['😊']\n",
      "\n",
      "> めっちゃ 好き です 〜 \n",
      "= 2\n",
      "original emoji =  ['😊']\n",
      "< 1 <EOS>\n",
      "output emoji <  ['😍']\n",
      "\n",
      "> 私 の 手持ち から 出す ので 、 なかなか いい サジ ン が なく て すみません \n",
      "= 10\n",
      "original emoji =  ['💦']\n",
      "< 10 <EOS>\n",
      "output emoji <  ['💦']\n",
      "\n",
      "> ポスター 設置 し て 頂き ありがとう ござい ます \n",
      "= 2\n",
      "original emoji =  ['😊']\n",
      "< 2 <EOS>\n",
      "output emoji <  ['😊']\n",
      "\n"
     ]
    }
   ],
   "source": [
    "evaluateRandomly(encoder1, attn_decoder1)"
   ]
  },
  {
   "cell_type": "code",
   "execution_count": 99,
   "metadata": {},
   "outputs": [],
   "source": [
    "output_words, attentions = evaluate(\n",
    "    encoder1, attn_decoder1, \"仲良く し て\")\n",
    "plt.matshow(attentions.numpy())\n",
    "plt.savefig('frendme.png')\n",
    "plt.close()"
   ]
  },
  {
   "cell_type": "code",
   "execution_count": 100,
   "metadata": {},
   "outputs": [],
   "source": [
    "def showAttention(input_sentence, output_words, attentions):\n",
    "    # Set up figure with colorbar\n",
    "    fig = plt.figure()\n",
    "    ax = fig.add_subplot(111)\n",
    "    cax = ax.matshow(attentions.numpy(), cmap='bone')\n",
    "    fig.colorbar(cax)\n",
    "\n",
    "    # Set up axes\n",
    "    ax.set_xticklabels([''] + input_sentence.split(' ') +\n",
    "                       ['<EOS>'], rotation=90)\n",
    "    ax.set_yticklabels([''] + output_words)\n",
    "\n",
    "    # Show label at every tick\n",
    "    ax.xaxis.set_major_locator(ticker.MultipleLocator(1))\n",
    "    ax.yaxis.set_major_locator(ticker.MultipleLocator(1))\n",
    "\n",
    "    #plt.show()\n",
    "    plt.savefig('frendme.png')\n",
    "    plt.close()"
   ]
  },
  {
   "cell_type": "code",
   "execution_count": 101,
   "metadata": {},
   "outputs": [],
   "source": [
    "def evaluateAndShowAttention(input_sentence):\n",
    "    output_words, attentions = evaluate(\n",
    "        encoder1, attn_decoder1, input_sentence)\n",
    "    print('input =', input_sentence)\n",
    "    print('output =', ' '.join(output_words))\n",
    "    print('output emoji = ', emojiFromIndex(int(output_words[0])))\n",
    "    showAttention(input_sentence, output_words, attentions)"
   ]
  },
  {
   "cell_type": "code",
   "execution_count": 102,
   "metadata": {},
   "outputs": [
    {
     "name": "stdout",
     "output_type": "stream",
     "text": [
      "input = なお クン は 気圧 の 変化 に も 弱い から 、 いろいろ 心配 で あり やす 、 、 、\n",
      "output = 10 <EOS>\n",
      "output emoji =  ['💦']\n"
     ]
    }
   ],
   "source": [
    "evaluateAndShowAttention(\"なお クン は 気圧 の 変化 に も 弱い から 、 いろいろ 心配 で あり やす 、 、 、\")"
   ]
  },
  {
   "cell_type": "code",
   "execution_count": 103,
   "metadata": {},
   "outputs": [
    {
     "name": "stdout",
     "output_type": "stream",
     "text": [
      "precision [0.57537601 0.40592372 0.51901026 0.51260206 0.45159351 0.44375\n",
      " 0.57506053 0.75539988 0.74974908 0.51237113]\n",
      "report              precision    recall  f1-score   support\n",
      "\n",
      "          1       0.58      0.37      0.45      4470\n",
      "          2       0.41      0.71      0.52     10711\n",
      "          3       0.52      0.39      0.45      2178\n",
      "          4       0.51      0.41      0.45      3546\n",
      "          5       0.45      0.23      0.31      3217\n",
      "          6       0.44      0.13      0.20      2159\n",
      "          7       0.58      0.18      0.27      2675\n",
      "          8       0.76      0.67      0.71      1927\n",
      "          9       0.75      0.44      0.55      5101\n",
      "         10       0.51      0.65      0.57      7652\n",
      "\n",
      "avg / total       0.53      0.49      0.48     43636\n",
      "\n",
      "accuracy score 0.4946374553121276\n"
     ]
    },
    {
     "data": {
      "image/png": "[encoded data removed]",
      "text/plain": [
       "<Figure size 504x504 with 2 Axes>"
      ]
     },
     "metadata": {},
     "output_type": "display_data"
    }
   ],
   "source": [
    "evaluateTestdata(encoder1, attn_decoder1)"
   ]
  },
  {
   "cell_type": "code",
   "execution_count": 104,
   "metadata": {},
   "outputs": [],
   "source": [
    "plt.close('all')"
   ]
  },
  {
   "cell_type": "code",
   "execution_count": null,
   "metadata": {},
   "outputs": [],
   "source": []
  }
 ],
 "metadata": {
  "kernelspec": {
   "display_name": "Python 3",
   "language": "python",
   "name": "python3"
  },
  "language_info": {
   "codemirror_mode": {
    "name": "ipython",
    "version": 3
   },
   "file_extension": ".py",
   "mimetype": "text/x-python",
   "name": "python",
   "nbconvert_exporter": "python",
   "pygments_lexer": "ipython3",
   "version": "3.6.4"
  }
 },
 "nbformat": 4,
 "nbformat_minor": 2
}
