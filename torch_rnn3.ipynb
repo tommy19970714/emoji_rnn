{
 "cells": [
  {
   "cell_type": "code",
   "execution_count": 1,
   "metadata": {},
   "outputs": [],
   "source": [
    "from __future__ import unicode_literals, print_function, division\n",
    "from io import open\n",
    "import unicodedata\n",
    "import string\n",
    "import re\n",
    "import random\n",
    "import time\n",
    "import math\n",
    "\n",
    "import torch\n",
    "import torch.nn as nn\n",
    "from torch import optim\n",
    "import torch.nn.functional as F\n",
    "import torch.utils.data\n",
    "from torch.autograd import Variable #自動微分用\n",
    "import numpy as np\n",
    "\n",
    "import matplotlib\n",
    "#matplotlib.use(\"Agg\")\n",
    "import matplotlib.pyplot as plt"
   ]
  },
  {
   "cell_type": "code",
   "execution_count": 2,
   "metadata": {},
   "outputs": [],
   "source": [
    "device = torch.device(\"cuda\" if torch.cuda.is_available() else \"cpu\")"
   ]
  },
  {
   "cell_type": "code",
   "execution_count": 3,
   "metadata": {},
   "outputs": [
    {
     "data": {
      "text/plain": [
       "['😅']"
      ]
     },
     "execution_count": 3,
     "metadata": {},
     "output_type": "execute_result"
    }
   ],
   "source": [
    "import pickle\n",
    "emoji_index = pickle.loads(open('./emoji_index.pkl', 'rb').read())\n",
    "def emojiFromIndex(num):\n",
    "    return [k for k, v in emoji_index.items() if v == num]\n",
    "\n",
    "emojiFromIndex(10)"
   ]
  },
  {
   "cell_type": "code",
   "execution_count": 4,
   "metadata": {},
   "outputs": [],
   "source": [
    "from sklearn.model_selection import train_test_split\n",
    "import collections\n",
    "\n",
    "class pytorchloader:\n",
    "    def __init__(self, dataPath='./text_label_split.tsv'):\n",
    "        # ベクトルの読み込み\n",
    "        self.lines = open(dataPath, encoding='utf-8').read().strip().split('\\n')\n",
    "        self.pairs = [[s for s in l.split('\\t')] for l in self.lines]\n",
    "        self.labels = [p[1] for p in self.pairs]\n",
    "        # データ作成\n",
    "        self.out_pairs = []\n",
    "        self.out_labels = []\n",
    "\n",
    "    def normalize(self):\n",
    "        # データ数を合わせる\n",
    "        c = collections.Counter(self.labels)\n",
    "        sample_nums = c.most_common()\n",
    "        print(\"sample_nums:\", sample_nums)\n",
    "\n",
    "        min_num = np.min([s[1] for s in sample_nums])\n",
    "        print(\"min_num:\", min_num)\n",
    "\n",
    "        for sample in sample_nums:\n",
    "            diff_num = int(sample[1] - min_num)\n",
    "            print(\"クラス%s 削除サンプル数: %d (%0.2f％)\" % (sample[0], diff_num, (diff_num/sample[1])*100))\n",
    "            indexes = [i for i, l in enumerate(self.labels) if l == sample[0]]\n",
    "            del_indexes = random.sample(indexes, min_num)\n",
    "            self.out_pairs.extend([self.pairs[i] for i in indexes])\n",
    "            self.out_labels.extend([self.labels[i] for i in indexes])\n",
    "\n",
    "    def label_count(self):\n",
    "        return len(collections.Counter([str(v) for v in self.labels]))\n",
    "    \n",
    "    def rawdata(self):\n",
    "        return self.pairs\n",
    "    \n",
    "    def split(self):\n",
    "        X_train, X_test, y_train, y_test = train_test_split(self.out_pairs, self.labels, test_size=0.20, random_state=random.randint(0, 100))\n",
    "        return X_train, X_test"
   ]
  },
  {
   "cell_type": "code",
   "execution_count": 5,
   "metadata": {},
   "outputs": [],
   "source": [
    "SOS_token = 0\n",
    "EOS_token = 1\n",
    "\n",
    "class Lang:\n",
    "    def __init__(self, name):\n",
    "        self.name = name\n",
    "        self.word2index = {}\n",
    "        self.word2count = {}\n",
    "        self.index2word = {0: \"SOS\", 1: \"EOS\"}\n",
    "        self.n_words = 2  # Count SOS and EOS\n",
    "\n",
    "    def addSentence(self, sentence):\n",
    "        for word in sentence.split(' '):\n",
    "            self.addWord(word)\n",
    "\n",
    "    def addWord(self, word):\n",
    "        if word not in self.word2index:\n",
    "            self.word2index[word] = self.n_words\n",
    "            self.word2count[word] = 1\n",
    "            self.index2word[self.n_words] = word\n",
    "            self.n_words += 1\n",
    "        else:\n",
    "            self.word2count[word] += 1"
   ]
  },
  {
   "cell_type": "code",
   "execution_count": 6,
   "metadata": {},
   "outputs": [],
   "source": [
    "import csv\n",
    "def readLangs(lang1, lang2, fn, reverse=False):\n",
    "    print(\"Reading lines...\")\n",
    "\n",
    "    # Read the file and split into lines\n",
    "    lines = open(fn, encoding='utf-8').read().strip().split('\\n')\n",
    "\n",
    "    # Split every line into pairs and normalize\n",
    "    pairs = [[s for s in l.split('\\t')] for l in lines]\n",
    "\n",
    "    # Reverse pairs, make Lang instances\n",
    "    if reverse:\n",
    "        pairs = [list(reversed(p)) for p in pairs]\n",
    "        input_lang = Lang(lang2)\n",
    "        output_lang = Lang(lang1)\n",
    "    else:\n",
    "        input_lang = Lang(lang1)\n",
    "        output_lang = Lang(lang2)\n",
    "\n",
    "    return input_lang, output_lang, pairs"
   ]
  },
  {
   "cell_type": "code",
   "execution_count": 7,
   "metadata": {},
   "outputs": [],
   "source": [
    "MAX_LENGTH = 31"
   ]
  },
  {
   "cell_type": "code",
   "execution_count": 8,
   "metadata": {},
   "outputs": [],
   "source": [
    "def prepareData(lang1, lang2, fn, reverse=False):\n",
    "    input_lang, output_lang, pairs = readLangs(lang1, lang2, fn, reverse)\n",
    "    print(\"Read %s sentence pairs\" % len(pairs))\n",
    "    print(\"Trimmed to %s sentence pairs\" % len(pairs))\n",
    "    print(\"Counting words...\")\n",
    "    for pair in pairs:\n",
    "        input_lang.addSentence(pair[0])\n",
    "        output_lang.addSentence(pair[1])\n",
    "    print(\"Counted words:\")\n",
    "    print(input_lang.name, input_lang.n_words)\n",
    "    print(output_lang.name, output_lang.n_words)\n",
    "    return input_lang, output_lang, pairs"
   ]
  },
  {
   "cell_type": "code",
   "execution_count": 9,
   "metadata": {},
   "outputs": [],
   "source": [
    "def prepareData2(lang1, lang2, fn):\n",
    "    loader = pytorchloader()\n",
    "    loader.normalize()\n",
    "    pairs, pairs_test = loader.split()\n",
    "    input_lang, output_lang = Lang(lang1), Lang(lang2)\n",
    "    print(\"Read %s sentence pairs\" % len(pairs))\n",
    "    print(\"Trimmed to %s sentence pairs\" % len(pairs))\n",
    "    print(\"Counting words...\")\n",
    "    for pair in pairs:\n",
    "        input_lang.addSentence(pair[0])\n",
    "        output_lang.addSentence(pair[1])\n",
    "    print(\"Counted words:\")\n",
    "    print(input_lang.name, input_lang.n_words)\n",
    "    print(output_lang.name, output_lang.n_words)\n",
    "    return input_lang, output_lang, pairs, pairs_test"
   ]
  },
  {
   "cell_type": "code",
   "execution_count": 10,
   "metadata": {},
   "outputs": [
    {
     "name": "stdout",
     "output_type": "stream",
     "text": [
      "sample_nums: [('8', 81107), ('6', 53592), ('3', 42757), ('4', 40475), ('13', 38978), ('18', 38038), ('10', 28738), ('17', 26034), ('19', 23218), ('2', 22109), ('1', 19776), ('11', 17432), ('20', 17319), ('12', 16174), ('15', 13489), ('9', 10927), ('14', 10851), ('5', 10169), ('7', 9989), ('16', 9534)]\n",
      "min_num: 9534\n",
      "クラス8 削除サンプル数: 71573 (88.25％)\n",
      "クラス6 削除サンプル数: 44058 (82.21％)\n",
      "クラス3 削除サンプル数: 33223 (77.70％)\n",
      "クラス4 削除サンプル数: 30941 (76.44％)\n",
      "クラス13 削除サンプル数: 29444 (75.54％)\n",
      "クラス18 削除サンプル数: 28504 (74.94％)\n",
      "クラス10 削除サンプル数: 19204 (66.82％)\n",
      "クラス17 削除サンプル数: 16500 (63.38％)\n",
      "クラス19 削除サンプル数: 13684 (58.94％)\n",
      "クラス2 削除サンプル数: 12575 (56.88％)\n",
      "クラス1 削除サンプル数: 10242 (51.79％)\n",
      "クラス11 削除サンプル数: 7898 (45.31％)\n",
      "クラス20 削除サンプル数: 7785 (44.95％)\n",
      "クラス12 削除サンプル数: 6640 (41.05％)\n",
      "クラス15 削除サンプル数: 3955 (29.32％)\n",
      "クラス9 削除サンプル数: 1393 (12.75％)\n",
      "クラス14 削除サンプル数: 1317 (12.14％)\n",
      "クラス5 削除サンプル数: 635 (6.24％)\n",
      "クラス7 削除サンプル数: 455 (4.56％)\n",
      "クラス16 削除サンプル数: 0 (0.00％)\n",
      "Read 424564 sentence pairs\n",
      "Trimmed to 424564 sentence pairs\n",
      "Counting words...\n",
      "Counted words:\n",
      "in 97276\n",
      "out 22\n",
      "['しまだ ひ ろむ 説得 し て くれる 人 募集中 ', '7']\n"
     ]
    }
   ],
   "source": [
    "input_lang, output_lang, pairs, pairs_test = prepareData2('in', 'out', 'text_label_split.tsv')\n",
    "print(random.choice(pairs))\n",
    "\n",
    "#input_lang, output_lang, pairs = prepareData('in', 'out', 'text_label_split.tsv', False)\n",
    "#print(random.choice(pairs_test))"
   ]
  },
  {
   "cell_type": "code",
   "execution_count": 11,
   "metadata": {},
   "outputs": [],
   "source": [
    "class EncoderRNN(nn.Module):\n",
    "    def __init__(self, input_size, hidden_size):\n",
    "        super(EncoderRNN, self).__init__()\n",
    "        self.hidden_size = hidden_size\n",
    "\n",
    "        self.embedding = nn.Embedding(input_size, hidden_size)\n",
    "        self.gru = nn.GRU(hidden_size, hidden_size)\n",
    "\n",
    "    def forward(self, input, hidden):\n",
    "        embedded = self.embedding(input).view(1, 1, -1)\n",
    "        output = embedded\n",
    "        output, hidden = self.gru(output, hidden)\n",
    "        return output, hidden\n",
    "\n",
    "    def initHidden(self):\n",
    "        return torch.zeros(1, 1, self.hidden_size, device=device)"
   ]
  },
  {
   "cell_type": "code",
   "execution_count": 12,
   "metadata": {},
   "outputs": [],
   "source": [
    "class DecoderRNN(nn.Module):\n",
    "    def __init__(self, hidden_size, output_size):\n",
    "        super(DecoderRNN, self).__init__()\n",
    "        self.hidden_size = hidden_size\n",
    "\n",
    "        self.embedding = nn.Embedding(output_size, hidden_size)\n",
    "        self.gru = nn.GRU(hidden_size, hidden_size)\n",
    "        self.out = nn.Linear(hidden_size, output_size)\n",
    "        self.softmax = nn.LogSoftmax(dim=1)\n",
    "\n",
    "    def forward(self, input, hidden):\n",
    "        output = self.embedding(input).view(1, 1, -1)\n",
    "        output = F.relu(output)\n",
    "        output, hidden = self.gru(output, hidden)\n",
    "        output = self.softmax(self.out(output[0]))\n",
    "        return output, hidden\n",
    "\n",
    "    def initHidden(self):\n",
    "        return torch.zeros(1, 1, self.hidden_size, device=device)"
   ]
  },
  {
   "cell_type": "code",
   "execution_count": 13,
   "metadata": {},
   "outputs": [],
   "source": [
    "class AttnDecoderRNN(nn.Module):\n",
    "    def __init__(self, hidden_size, output_size, dropout_p=0.1, max_length=MAX_LENGTH):\n",
    "        super(AttnDecoderRNN, self).__init__()\n",
    "        self.hidden_size = hidden_size\n",
    "        self.output_size = output_size\n",
    "        self.dropout_p = dropout_p\n",
    "        self.max_length = max_length\n",
    "\n",
    "        self.embedding = nn.Embedding(self.output_size, self.hidden_size)\n",
    "        self.attn = nn.Linear(self.hidden_size * 2, self.max_length)\n",
    "        self.attn_combine = nn.Linear(self.hidden_size * 2, self.hidden_size)\n",
    "        self.dropout = nn.Dropout(self.dropout_p)\n",
    "        self.gru = nn.GRU(self.hidden_size, self.hidden_size)\n",
    "        self.out = nn.Linear(self.hidden_size, self.output_size)\n",
    "\n",
    "    def forward(self, input, hidden, encoder_outputs):\n",
    "        embedded = self.embedding(input).view(1, 1, -1)\n",
    "        embedded = self.dropout(embedded)\n",
    "\n",
    "        attn_weights = F.softmax(\n",
    "            self.attn(torch.cat((embedded[0], hidden[0]), 1)), dim=1)\n",
    "        attn_applied = torch.bmm(attn_weights.unsqueeze(0), encoder_outputs.unsqueeze(0))\n",
    "\n",
    "        output = torch.cat((embedded[0], attn_applied[0]), 1)\n",
    "        output = self.attn_combine(output).unsqueeze(0)\n",
    "\n",
    "        output = F.relu(output)\n",
    "        output, hidden = self.gru(output, hidden)\n",
    "\n",
    "        output = F.log_softmax(self.out(output[0]), dim=1)\n",
    "        return output, hidden, attn_weights\n",
    "\n",
    "    def initHidden(self):\n",
    "        return torch.zeros(1, 1, self.hidden_size, device=device)"
   ]
  },
  {
   "cell_type": "code",
   "execution_count": 33,
   "metadata": {},
   "outputs": [],
   "source": [
    "def indexesFromSentence(lang, sentence):\n",
    "    return [lang.word2index[word] for word in sentence.split(' ') if word in lang.word2index]\n",
    "\n",
    "\n",
    "def tensorFromSentence(lang, sentence):\n",
    "    indexes = indexesFromSentence(lang, sentence)\n",
    "    indexes.append(EOS_token)\n",
    "    return torch.tensor(indexes, dtype=torch.long, device=device).view(-1, 1)\n",
    "\n",
    "\n",
    "def tensorsFromPair(pair):\n",
    "    input_tensor = tensorFromSentence(input_lang, pair[0])\n",
    "    target_tensor = tensorFromSentence(output_lang, pair[1])\n",
    "    return (input_tensor, target_tensor)"
   ]
  },
  {
   "cell_type": "code",
   "execution_count": 15,
   "metadata": {},
   "outputs": [],
   "source": [
    "teacher_forcing_ratio = 0.5"
   ]
  },
  {
   "cell_type": "code",
   "execution_count": 16,
   "metadata": {},
   "outputs": [],
   "source": [
    "def train(input_tensor, target_tensor, encoder, decoder, encoder_optimizer, decoder_optimizer, criterion, max_length=MAX_LENGTH):\n",
    "    encoder_hidden = encoder.initHidden()\n",
    "\n",
    "    encoder_optimizer.zero_grad()\n",
    "    decoder_optimizer.zero_grad()\n",
    "\n",
    "    input_length = input_tensor.size(0)\n",
    "    target_length = target_tensor.size(0)\n",
    "\n",
    "    encoder_outputs = torch.zeros(max_length, encoder.hidden_size, device=device)\n",
    "\n",
    "    loss = 0\n",
    "    for ei in range(input_length):\n",
    "        encoder_output, encoder_hidden = encoder(input_tensor[ei], encoder_hidden)\n",
    "        encoder_outputs[ei] = encoder_output[0, 0]\n",
    "\n",
    "    decoder_input = torch.tensor([[SOS_token]], device=device)\n",
    "\n",
    "    decoder_hidden = encoder_hidden\n",
    "\n",
    "    use_teacher_forcing = True if random.random() < teacher_forcing_ratio else False\n",
    "\n",
    "    if use_teacher_forcing:\n",
    "        # Teacher forcing: Feed the target as the next input\n",
    "        for di in range(target_length):\n",
    "            decoder_output, decoder_hidden, decoder_attention = decoder(\n",
    "                decoder_input, decoder_hidden, encoder_outputs)\n",
    "            loss += criterion(decoder_output, target_tensor[di])\n",
    "            decoder_input = target_tensor[di]  # Teacher forcing\n",
    "\n",
    "    else:\n",
    "        # Without teacher forcing: use its own predictions as the next input\n",
    "        for di in range(target_length):\n",
    "            decoder_output, decoder_hidden, decoder_attention = decoder(\n",
    "                decoder_input, decoder_hidden, encoder_outputs)\n",
    "            topv, topi = decoder_output.topk(1)\n",
    "            decoder_input = topi.squeeze().detach()  # detach from history as input\n",
    "\n",
    "            loss += criterion(decoder_output, target_tensor[di])\n",
    "            if decoder_input.item() == EOS_token:\n",
    "                break\n",
    "\n",
    "    loss.backward()\n",
    "\n",
    "    encoder_optimizer.step()\n",
    "    decoder_optimizer.step()\n",
    "\n",
    "    return loss.item() / target_length"
   ]
  },
  {
   "cell_type": "code",
   "execution_count": 17,
   "metadata": {},
   "outputs": [],
   "source": [
    "import time\n",
    "import math\n",
    "\n",
    "\n",
    "def asMinutes(s):\n",
    "    m = math.floor(s / 60)\n",
    "    s -= m * 60\n",
    "    return '%dm %ds' % (m, s)\n",
    "\n",
    "\n",
    "def timeSince(since, percent):\n",
    "    now = time.time()\n",
    "    s = now - since\n",
    "    es = s / (percent)\n",
    "    rs = es - s\n",
    "    return '%s (- %s)' % (asMinutes(s), asMinutes(rs))"
   ]
  },
  {
   "cell_type": "code",
   "execution_count": 18,
   "metadata": {},
   "outputs": [],
   "source": [
    "def trainIters(encoder, decoder, n_iters, print_every=1000, plot_every=100, learning_rate=0.01):\n",
    "    start = time.time()\n",
    "    plot_losses = []\n",
    "    print_loss_total = 0  # Reset every print_every\n",
    "    plot_loss_total = 0  # Reset every plot_every\n",
    "\n",
    "    encoder_optimizer = optim.SGD(encoder.parameters(), lr=learning_rate)\n",
    "    decoder_optimizer = optim.SGD(decoder.parameters(), lr=learning_rate)\n",
    "    training_pairs = [tensorsFromPair(random.choice(pairs))\n",
    "                      for i in range(n_iters)]\n",
    "    criterion = nn.NLLLoss()\n",
    "\n",
    "    for iter in range(1, n_iters + 1):\n",
    "        training_pair = training_pairs[iter - 1]\n",
    "        input_tensor = training_pair[0]\n",
    "        target_tensor = training_pair[1]\n",
    "\n",
    "        loss = train(input_tensor, target_tensor, encoder, decoder, encoder_optimizer, decoder_optimizer, criterion)\n",
    "        print_loss_total += loss\n",
    "        plot_loss_total += loss\n",
    "\n",
    "        if iter % print_every == 0:\n",
    "            print_loss_avg = print_loss_total / print_every\n",
    "            print_loss_total = 0\n",
    "            print('%s (%d %d%%) %.4f' % (timeSince(start, iter / n_iters),\n",
    "                                         iter, iter / n_iters * 100, print_loss_avg))\n",
    "\n",
    "        if iter % plot_every == 0:\n",
    "            plot_loss_avg = plot_loss_total / plot_every\n",
    "            plot_losses.append(plot_loss_avg)\n",
    "            plot_loss_total = 0\n",
    "\n",
    "    showPlot(plot_losses, \"losses.png\")"
   ]
  },
  {
   "cell_type": "code",
   "execution_count": 19,
   "metadata": {},
   "outputs": [],
   "source": [
    "import matplotlib.pyplot as plt\n",
    "#plt.switch_backend('agg')\n",
    "import matplotlib.ticker as ticker\n",
    "import numpy as np\n",
    "\n",
    "\n",
    "def showPlot(points, filename):\n",
    "    plt.figure()\n",
    "    fig, ax = plt.subplots()\n",
    "    # this locator puts ticks at regular intervals\n",
    "    loc = ticker.MultipleLocator(base=0.2)\n",
    "    ax.yaxis.set_major_locator(loc)\n",
    "    plt.plot(points)\n",
    "    plt.savefig(filename)\n",
    "    plt.show()\n",
    "    plt.close()"
   ]
  },
  {
   "cell_type": "code",
   "execution_count": 20,
   "metadata": {},
   "outputs": [],
   "source": [
    "import seaborn as sns\n",
    "from sklearn.metrics import confusion_matrix\n",
    "import pandas as pd\n",
    "\n",
    "def showConfusionMatrix(y_test, y_pred):\n",
    "    conf_mat = confusion_matrix(y_test, y_pred)\n",
    "    index = columns = [str(l) for l in range(len(emoji_index))]\n",
    "    df = pd.DataFrame(conf_mat, index=index, columns=columns)\n",
    "    \n",
    "    fig = plt.figure(figsize = (7,7))\n",
    "    sns.heatmap(df, annot=False, square=True, fmt='.0f', cmap=\"Blues\")\n",
    "    plt.title('20 emojis classification')\n",
    "    plt.xlabel('emojis')\n",
    "    plt.ylabel('prediction')\n",
    "    fig.savefig(\"confusion_matrix_torch3.png\")\n",
    "    plt.show()\n",
    "    plt.close()"
   ]
  },
  {
   "cell_type": "code",
   "execution_count": 21,
   "metadata": {},
   "outputs": [],
   "source": [
    "def evaluate(encoder, decoder, sentence, max_length=MAX_LENGTH):\n",
    "    with torch.no_grad():\n",
    "        input_tensor = tensorFromSentence(input_lang, sentence)\n",
    "        input_length = input_tensor.size()[0]\n",
    "        encoder_hidden = encoder.initHidden()\n",
    "\n",
    "        encoder_outputs = torch.zeros(max_length, encoder.hidden_size, device=device)\n",
    "\n",
    "        for ei in range(input_length):\n",
    "            encoder_output, encoder_hidden = encoder(input_tensor[ei],\n",
    "                                                     encoder_hidden)\n",
    "            encoder_outputs[ei] += encoder_output[0, 0]\n",
    "\n",
    "        decoder_input = torch.tensor([[SOS_token]], device=device)  # SOS\n",
    "\n",
    "        decoder_hidden = encoder_hidden\n",
    "\n",
    "        decoded_words = []\n",
    "        decoder_attentions = torch.zeros(max_length, max_length)\n",
    "\n",
    "        for di in range(max_length):\n",
    "            decoder_output, decoder_hidden, decoder_attention = decoder(\n",
    "                decoder_input, decoder_hidden, encoder_outputs)\n",
    "            decoder_attentions[di] = decoder_attention.data\n",
    "            topv, topi = decoder_output.data.topk(1)\n",
    "            if topi.item() == EOS_token:\n",
    "                decoded_words.append('<EOS>')\n",
    "                break\n",
    "            else:\n",
    "                decoded_words.append(output_lang.index2word[topi.item()])\n",
    "\n",
    "            decoder_input = topi.squeeze().detach()\n",
    "\n",
    "        return decoded_words, decoder_attentions[:di + 1]"
   ]
  },
  {
   "cell_type": "code",
   "execution_count": 22,
   "metadata": {},
   "outputs": [],
   "source": [
    "def evaluateRandomly(encoder, decoder, n=10):\n",
    "    for i in range(n):\n",
    "        pair = random.choice(pairs)\n",
    "        print('>', pair[0])\n",
    "        print('=', pair[1])\n",
    "        print('original emoji = ', emojiFromIndex(int(pair[1])))\n",
    "        output_words, attentions = evaluate(encoder, decoder, pair[0])\n",
    "        output_sentence = ' '.join(output_words)\n",
    "        print('<', output_sentence)\n",
    "        print('output emoji < ', emojiFromIndex(int(output_words[0])))\n",
    "        print('')"
   ]
  },
  {
   "cell_type": "code",
   "execution_count": 34,
   "metadata": {},
   "outputs": [],
   "source": [
    "from sklearn.metrics import accuracy_score\n",
    "from sklearn.metrics import classification_report\n",
    "from sklearn.metrics import precision_score\n",
    "\n",
    "def evaluateTestdata(encoder, decoder):\n",
    "    y_test, y_pred = [], []\n",
    "    for pair in pairs_test:\n",
    "        y_test.append(int(pair[1]))\n",
    "        output_words, attentions = evaluate(encoder, decoder, pair[0])\n",
    "        y_pred.append(int(output_words[0]))\n",
    "    print(\"precision\", precision_score(y_test, y_pred, average=None))\n",
    "    print(\"report\", classification_report(y_test, y_pred))\n",
    "    print(\"accuracy score\", accuracy_score(y_test, y_pred))\n",
    "    showConfusionMatrix(y_test, y_pred)\n",
    "    "
   ]
  },
  {
   "cell_type": "code",
   "execution_count": 24,
   "metadata": {},
   "outputs": [],
   "source": [
    "hidden_size = 256\n",
    "encoder1 = EncoderRNN(input_lang.n_words, hidden_size).to(device)"
   ]
  },
  {
   "cell_type": "code",
   "execution_count": 25,
   "metadata": {},
   "outputs": [],
   "source": [
    "attn_decoder1 = AttnDecoderRNN(hidden_size, output_lang.n_words, dropout_p=0.1).to(device)"
   ]
  },
  {
   "cell_type": "code",
   "execution_count": 26,
   "metadata": {},
   "outputs": [
    {
     "name": "stdout",
     "output_type": "stream",
     "text": [
      "1m 42s (- 23m 59s) (5000 6%) 1.4132\n",
      "3m 22s (- 21m 56s) (10000 13%) 1.3324\n",
      "5m 2s (- 20m 10s) (15000 20%) 1.2917\n",
      "6m 43s (- 18m 28s) (20000 26%) 1.2646\n",
      "8m 22s (- 16m 44s) (25000 33%) 1.2493\n",
      "10m 1s (- 15m 2s) (30000 40%) 1.2421\n",
      "11m 41s (- 13m 21s) (35000 46%) 1.2296\n",
      "13m 19s (- 11m 39s) (40000 53%) 1.2297\n",
      "14m 58s (- 9m 59s) (45000 60%) 1.2245\n",
      "16m 38s (- 8m 19s) (50000 66%) 1.1981\n",
      "18m 17s (- 6m 39s) (55000 73%) 1.2017\n",
      "19m 57s (- 4m 59s) (60000 80%) 1.1940\n",
      "21m 35s (- 3m 19s) (65000 86%) 1.1827\n",
      "23m 16s (- 1m 39s) (70000 93%) 1.1853\n",
      "24m 56s (- 0m 0s) (75000 100%) 1.1957\n"
     ]
    },
    {
     "data": {
      "text/plain": [
       "<Figure size 432x288 with 0 Axes>"
      ]
     },
     "metadata": {},
     "output_type": "display_data"
    },
    {
     "data": {
      "image/png": "[encoded data removed]",
      "text/plain": [
       "<Figure size 432x288 with 1 Axes>"
      ]
     },
     "metadata": {},
     "output_type": "display_data"
    }
   ],
   "source": [
    "trainIters(encoder1, attn_decoder1, 75000, print_every=5000)"
   ]
  },
  {
   "cell_type": "code",
   "execution_count": 27,
   "metadata": {},
   "outputs": [
    {
     "name": "stdout",
     "output_type": "stream",
     "text": [
      "> ぜひ 見 に 来 て ください  \n",
      "= 8\n",
      "original emoji =  ['✨']\n",
      "< 8 <EOS>\n",
      "output emoji <  ['✨']\n",
      "\n",
      "> ハルアル っていう コンビ 名付け たい です  唐突\n",
      "= 4\n",
      "original emoji =  ['💕']\n",
      "< 8 <EOS>\n",
      "output emoji <  ['✨']\n",
      "\n",
      "> わ 、 わたし ハリドリ 乗れ ない ん です  ←\n",
      "= 13\n",
      "original emoji =  ['😭']\n",
      "< 3 <EOS>\n",
      "output emoji <  ['😂']\n",
      "\n",
      "> いずれ か を 名 さま に 差し上げ ます \n",
      "= 4\n",
      "original emoji =  ['💕']\n",
      "< 6 <EOS>\n",
      "output emoji <  ['😊']\n",
      "\n",
      "> 今日 は チェキ ありがとう な \n",
      "= 13\n",
      "original emoji =  ['😭']\n",
      "< 6 <EOS>\n",
      "output emoji <  ['😊']\n",
      "\n",
      "> 最 俺 周年 おめでとう \n",
      "= 16\n",
      "original emoji =  ['🎉']\n",
      "< 16 <EOS>\n",
      "output emoji <  ['🎉']\n",
      "\n",
      "> ぜんぜん 面白み が わから ない よー \n",
      "= 3\n",
      "original emoji =  ['😂']\n",
      "< 13 <EOS>\n",
      "output emoji <  ['😭']\n",
      "\n",
      "> 雨 予報 だ から 濡れ て 風邪 を 引か ない よう に 気 を 付け て ね \n",
      "= 6\n",
      "original emoji =  ['😊']\n",
      "< 6 <EOS>\n",
      "output emoji <  ['😊']\n",
      "\n",
      "> 夜 は 【 〜 】 あり ます 分 だ よ \n",
      "= 2\n",
      "original emoji =  ['😍']\n",
      "< 4 <EOS>\n",
      "output emoji <  ['💕']\n",
      "\n",
      "> が について 語り 体感 する トーク ライヴイベント \n",
      "= 8\n",
      "original emoji =  ['✨']\n",
      "< 4 <EOS>\n",
      "output emoji <  ['💕']\n",
      "\n"
     ]
    }
   ],
   "source": [
    "evaluateRandomly(encoder1, attn_decoder1)"
   ]
  },
  {
   "cell_type": "code",
   "execution_count": 28,
   "metadata": {},
   "outputs": [],
   "source": [
    "output_words, attentions = evaluate(\n",
    "    encoder1, attn_decoder1, \"仲良く し て\")\n",
    "plt.matshow(attentions.numpy())\n",
    "plt.savefig('frendme.png')\n",
    "plt.close()"
   ]
  },
  {
   "cell_type": "code",
   "execution_count": 29,
   "metadata": {},
   "outputs": [],
   "source": [
    "def showAttention(input_sentence, output_words, attentions):\n",
    "    # Set up figure with colorbar\n",
    "    fig = plt.figure()\n",
    "    ax = fig.add_subplot(111)\n",
    "    cax = ax.matshow(attentions.numpy(), cmap='bone')\n",
    "    fig.colorbar(cax)\n",
    "\n",
    "    # Set up axes\n",
    "    ax.set_xticklabels([''] + input_sentence.split(' ') +\n",
    "                       ['<EOS>'], rotation=90)\n",
    "    ax.set_yticklabels([''] + output_words)\n",
    "\n",
    "    # Show label at every tick\n",
    "    ax.xaxis.set_major_locator(ticker.MultipleLocator(1))\n",
    "    ax.yaxis.set_major_locator(ticker.MultipleLocator(1))\n",
    "\n",
    "    #plt.show()\n",
    "    plt.savefig('frendme.png')\n",
    "    plt.close()"
   ]
  },
  {
   "cell_type": "code",
   "execution_count": 30,
   "metadata": {},
   "outputs": [],
   "source": [
    "def evaluateAndShowAttention(input_sentence):\n",
    "    output_words, attentions = evaluate(\n",
    "        encoder1, attn_decoder1, input_sentence)\n",
    "    print('input =', input_sentence)\n",
    "    print('output =', ' '.join(output_words))\n",
    "    print('output emoji = ', emojiFromIndex(int(output_words[0])))\n",
    "    showAttention(input_sentence, output_words, attentions)"
   ]
  },
  {
   "cell_type": "code",
   "execution_count": 31,
   "metadata": {},
   "outputs": [
    {
     "name": "stdout",
     "output_type": "stream",
     "text": [
      "input = なお クン は 気圧 の 変化 に も 弱い から 、 いろいろ 心配 で あり やす 、 、 、\n",
      "output = 13 <EOS>\n",
      "output emoji =  ['😭']\n"
     ]
    }
   ],
   "source": [
    "evaluateAndShowAttention(\"なお クン は 気圧 の 変化 に も 弱い から 、 いろいろ 心配 で あり やす 、 、 、\")"
   ]
  },
  {
   "cell_type": "code",
   "execution_count": 35,
   "metadata": {},
   "outputs": [
    {
     "name": "stderr",
     "output_type": "stream",
     "text": [
      "/usr/local/lib/python3.6/site-packages/sklearn/metrics/classification.py:1135: UndefinedMetricWarning: Precision is ill-defined and being set to 0.0 in labels with no predicted samples.\n",
      "  'precision', 'predicted', average, warn_for)\n",
      "/usr/local/lib/python3.6/site-packages/sklearn/metrics/classification.py:1135: UndefinedMetricWarning: Precision and F-score are ill-defined and being set to 0.0 in labels with no predicted samples.\n",
      "  'precision', 'predicted', average, warn_for)\n"
     ]
    },
    {
     "name": "stdout",
     "output_type": "stream",
     "text": [
      "precision [0.13507961 0.34457323 0.22373002 0.22044983 0.33333333 0.27744361\n",
      " 0.         0.25536854 0.28605108 0.18968305 0.35063898 0.26921328\n",
      " 0.23198824 0.38309859 0.69230769 0.59933036 0.58721241 0.29853244\n",
      " 0.09163987 0.17924528]\n",
      "report              precision    recall  f1-score   support\n",
      "\n",
      "          1       0.14      0.07      0.09      3849\n",
      "          2       0.34      0.22      0.27      4470\n",
      "          3       0.22      0.29      0.25      8547\n",
      "          4       0.22      0.17      0.19      8055\n",
      "          5       0.33      0.01      0.01      2022\n",
      "          6       0.28      0.35      0.31     10662\n",
      "          7       0.00      0.00      0.00      1943\n",
      "          8       0.26      0.54      0.35     16253\n",
      "          9       0.29      0.32      0.30      2269\n",
      "         10       0.19      0.20      0.20      5788\n",
      "         11       0.35      0.38      0.37      3444\n",
      "         12       0.27      0.18      0.22      3213\n",
      "         13       0.23      0.18      0.20      7737\n",
      "         14       0.38      0.06      0.11      2101\n",
      "         15       0.69      0.14      0.24      2758\n",
      "         16       0.60      0.57      0.59      1878\n",
      "         17       0.59      0.42      0.49      5182\n",
      "         18       0.30      0.30      0.30      7814\n",
      "         19       0.09      0.01      0.02      4590\n",
      "         20       0.18      0.02      0.04      3567\n",
      "\n",
      "avg / total       0.28      0.27      0.25    106142\n",
      "\n",
      "accuracy score 0.27434003504738935\n"
     ]
    },
    {
     "data": {
      "image/png": "[encoded data removed]",
      "text/plain": [
       "<Figure size 504x504 with 2 Axes>"
      ]
     },
     "metadata": {},
     "output_type": "display_data"
    }
   ],
   "source": [
    "evaluateTestdata(encoder1, attn_decoder1)"
   ]
  },
  {
   "cell_type": "code",
   "execution_count": null,
   "metadata": {},
   "outputs": [],
   "source": [
    "plt.close('all')"
   ]
  },
  {
   "cell_type": "code",
   "execution_count": null,
   "metadata": {},
   "outputs": [],
   "source": []
  }
 ],
 "metadata": {
  "kernelspec": {
   "display_name": "Python 3",
   "language": "python",
   "name": "python3"
  },
  "language_info": {
   "codemirror_mode": {
    "name": "ipython",
    "version": 3
   },
   "file_extension": ".py",
   "mimetype": "text/x-python",
   "name": "python",
   "nbconvert_exporter": "python",
   "pygments_lexer": "ipython3",
   "version": "3.6.4"
  }
 },
 "nbformat": 4,
 "nbformat_minor": 2
}
